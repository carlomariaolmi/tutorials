{
 "cells": [
  {
   "cell_type": "code",
   "execution_count": 1,
   "metadata": {
    "collapsed": true
   },
   "outputs": [],
   "source": [
    "import pandas as pd\n",
    "import urllib, json\n",
    "import pprint as pretty\n",
    "import requests"
   ]
  },
  {
   "cell_type": "markdown",
   "metadata": {},
   "source": [
    "Test 1"
   ]
  },
  {
   "cell_type": "code",
   "execution_count": 2,
   "metadata": {
    "collapsed": false
   },
   "outputs": [],
   "source": [
    "service_url='https://api.spotify.com/v1/search'\n",
    "\n",
    "params= {'q': 'radiohead',\n",
    "         'type': 'artist'}"
   ]
  },
  {
   "cell_type": "code",
   "execution_count": 3,
   "metadata": {
    "collapsed": true
   },
   "outputs": [],
   "source": [
    "req = requests.get(url=service_url, params=params)"
   ]
  },
  {
   "cell_type": "code",
   "execution_count": 4,
   "metadata": {
    "collapsed": false
   },
   "outputs": [
    {
     "ename": "TypeError",
     "evalue": "'unicode' object is not callable",
     "output_type": "error",
     "traceback": [
      "\u001b[0;31m---------------------------------------------------------------------------\u001b[0m",
      "\u001b[0;31mTypeError\u001b[0m                                 Traceback (most recent call last)",
      "\u001b[0;32m<ipython-input-4-a3ae4ee7f2dc>\u001b[0m in \u001b[0;36m<module>\u001b[0;34m()\u001b[0m\n\u001b[1;32m      7\u001b[0m \u001b[1;33m\u001b[0m\u001b[0m\n\u001b[1;32m      8\u001b[0m \u001b[1;32melse\u001b[0m\u001b[1;33m:\u001b[0m\u001b[1;33m\u001b[0m\u001b[0m\n\u001b[0;32m----> 9\u001b[0;31m     \u001b[1;32mprint\u001b[0m \u001b[1;33m(\u001b[0m\u001b[1;34m'Failure'\u001b[0m\u001b[1;33m,\u001b[0m \u001b[0mreq\u001b[0m\u001b[1;33m.\u001b[0m\u001b[0mtext\u001b[0m\u001b[1;33m(\u001b[0m\u001b[1;33m)\u001b[0m\u001b[1;33m)\u001b[0m\u001b[1;33m\u001b[0m\u001b[0m\n\u001b[0m\u001b[1;32m     10\u001b[0m \u001b[1;33m\u001b[0m\u001b[0m\n\u001b[1;32m     11\u001b[0m \u001b[1;33m\u001b[0m\u001b[0m\n",
      "\u001b[0;31mTypeError\u001b[0m: 'unicode' object is not callable"
     ]
    }
   ],
   "source": [
    "if req.status_code == 200:\n",
    "    info = req.json()\n",
    "    for artist in info['artists']['items']:\n",
    "        print ('Name: ' , artist['name'])\n",
    "        print ('ID: ', artist['id'])\n",
    "        print ('Followers: ', artist['followers']['total'], '\\n')\n",
    "\n",
    "else:\n",
    "    print ('Failure', req.text())\n",
    "\n",
    "\n"
   ]
  },
  {
   "cell_type": "markdown",
   "metadata": {},
   "source": [
    "Test 2"
   ]
  },
  {
   "cell_type": "code",
   "execution_count": 30,
   "metadata": {
    "collapsed": true
   },
   "outputs": [],
   "source": [
    "service_url='https://api.spotify.com/v1/'\n",
    "\n",
    "def search_artist_id(artist_name):\n",
    "\n",
    "    endpoint='search'\n",
    "    params= {'q': artist_name,\n",
    "            'type': 'artist'}\n",
    "\n",
    "    req= requests.get(url=service_url+endpoint, params=params)\n",
    "   # print ('CALLING:', req.url)\n",
    "\n",
    "    artist_id= None\n",
    "    if req.status_code==200:\n",
    "        info=req.json()\n",
    "        artist_id = info['artists']['items'][0]['id']\n",
    "    else:\n",
    "        print ('Retrieval failed', req.text)\n",
    "    return artist_id"
   ]
  },
  {
   "cell_type": "code",
   "execution_count": 33,
   "metadata": {
    "collapsed": false
   },
   "outputs": [
    {
     "data": {
      "text/plain": [
       "u'4Z8W4fKeB5YxbusRsdQVPb'"
      ]
     },
     "execution_count": 33,
     "metadata": {},
     "output_type": "execute_result"
    }
   ],
   "source": [
    "search_artist_id(\"Radiohead\")\n"
   ]
  },
  {
   "cell_type": "markdown",
   "metadata": {},
   "source": [
    "# Pagination"
   ]
  },
  {
   "cell_type": "code",
   "execution_count": 44,
   "metadata": {
    "collapsed": false
   },
   "outputs": [],
   "source": [
    "import requests\n",
    "\n",
    "service_url='https://api.spotify.com/v1/'\n",
    "\n",
    "\n",
    "def search_artist_id(artist_name):\n",
    "\n",
    "    endpoint='search'\n",
    "    params= {'q': artist_name,\n",
    "            'type': 'artist'}\n",
    "\n",
    "    req= requests.get(url=service_url+endpoint, params=params)\n",
    "    print ('CALLING:', req.url)\n",
    "    artist_id= None\n",
    "    if req.status_code==200:\n",
    "        info=req.json()\n",
    "        artist_id = info['artists']['items'][0]['id']\n",
    "    else:\n",
    "        print ('Retrieval failed', req.text)\n",
    "    return artist_id\n",
    "\n",
    "\n",
    "def get_artist_albums(artist_name, offset=0):\n",
    "    album_ids= []\n",
    "    artist_id=search_artist_id(artist_name)\n",
    "\n",
    "    params={'album_type': 'album',\n",
    "            'offset': offset}\n",
    "\n",
    "    if artist_id:\n",
    "        endpoint='artists/'+ artist_id+'/albums'\n",
    "        req= requests.get(url=service_url+endpoint, params=params)\n",
    "        print('CALLING:', req.url)\n",
    "        info=req.json()\n",
    "\n",
    "        if req.status_code==200:\n",
    "            for i in info['items']:\n",
    "                album_ids.append(i['id'])\n",
    "\n",
    "            if info['offset'] + info['limit'] < info['total']:\n",
    "                offset = offset + info['limit']\n",
    "                album_ids += get_artist_albums(artist_name, offset)\n",
    "        else:\n",
    "            \n",
    "            print('Retrieval failed', req.text)\n",
    "\n",
    "    return album_ids\n"
   ]
  },
  {
   "cell_type": "code",
   "execution_count": 46,
   "metadata": {
    "collapsed": false
   },
   "outputs": [
    {
     "name": "stdout",
     "output_type": "stream",
     "text": [
      "Enter artist name:\"Rihanna\"\n",
      "('CALLING:', u'https://api.spotify.com/v1/search?q=Rihanna&type=artist')\n",
      "('CALLING:', u'https://api.spotify.com/v1/artists/5pKCCKE2ajJHZ9KAiaK11H/albums?album_type=album&offset=0')\n",
      "('CALLING:', u'https://api.spotify.com/v1/search?q=Rihanna&type=artist')\n",
      "('CALLING:', u'https://api.spotify.com/v1/artists/5pKCCKE2ajJHZ9KAiaK11H/albums?album_type=album&offset=20')\n",
      "('CALLING:', u'https://api.spotify.com/v1/search?q=Rihanna&type=artist')\n",
      "('CALLING:', u'https://api.spotify.com/v1/artists/5pKCCKE2ajJHZ9KAiaK11H/albums?album_type=album&offset=40')\n",
      "('TOTAL NO of albums', 56)\n"
     ]
    }
   ],
   "source": [
    "artist_name=input('Enter artist name:')\n",
    "album_ids=get_artist_albums(artist_name)\n",
    "print (\"TOTAL NO of albums\", len(album_ids))"
   ]
  },
  {
   "cell_type": "code",
   "execution_count": null,
   "metadata": {
    "collapsed": true
   },
   "outputs": [],
   "source": []
  }
 ],
 "metadata": {
  "kernelspec": {
   "display_name": "Python 2",
   "language": "python",
   "name": "python2"
  },
  "language_info": {
   "codemirror_mode": {
    "name": "ipython",
    "version": 2
   },
   "file_extension": ".py",
   "mimetype": "text/x-python",
   "name": "python",
   "nbconvert_exporter": "python",
   "pygments_lexer": "ipython2",
   "version": "2.7.13"
  }
 },
 "nbformat": 4,
 "nbformat_minor": 2
}
